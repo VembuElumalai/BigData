{
  "nbformat": 4,
  "nbformat_minor": 0,
  "metadata": {
    "colab": {
      "provenance": [],
      "authorship_tag": "ABX9TyOtPynCQSaqZRw58pfyUdRM",
      "include_colab_link": true
    },
    "kernelspec": {
      "name": "python3",
      "display_name": "Python 3"
    },
    "language_info": {
      "name": "python"
    }
  },
  "cells": [
    {
      "cell_type": "markdown",
      "metadata": {
        "id": "view-in-github",
        "colab_type": "text"
      },
      "source": [
        "<a href=\"https://colab.research.google.com/github/VembuElumalai/BigData/blob/main/Problem_statement_3.ipynb\" target=\"_parent\"><img src=\"https://colab.research.google.com/assets/colab-badge.svg\" alt=\"Open In Colab\"/></a>"
      ]
    },
    {
      "cell_type": "code",
      "execution_count": 1,
      "metadata": {
        "colab": {
          "base_uri": "https://localhost:8080/"
        },
        "id": "j0Zfn33PWGiF",
        "outputId": "7fc1d388-9017-4e2b-d452-37e63ec5926d"
      },
      "outputs": [
        {
          "output_type": "stream",
          "name": "stdout",
          "text": [
            "enter the bill amount:100\n",
            "Total bill amount 200\n"
          ]
        }
      ],
      "source": [
        "calls=int(input(\"enter the bill amount:\"))\n",
        "\n",
        "if calls<=100:\n",
        "    bill=200\n",
        "elif calls<=150:\n",
        "    bill=200+(calls-100)*0.60\n",
        "elif calls<=200:\n",
        "    bill=200+(50*0.60)+(calls-150)*0.50\n",
        "else:\n",
        "    bill=200+50*0.60+50*0.50+(calls-200)*0.40\n",
        "print(\"Total bill amount\", bill)\n"
      ]
    }
  ]
}