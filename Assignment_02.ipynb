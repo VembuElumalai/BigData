{
  "nbformat": 4,
  "nbformat_minor": 0,
  "metadata": {
    "colab": {
      "provenance": [],
      "authorship_tag": "ABX9TyMy95JI2Zl0ywfXt+/vS5R0",
      "include_colab_link": true
    },
    "kernelspec": {
      "name": "python3",
      "display_name": "Python 3"
    },
    "language_info": {
      "name": "python"
    }
  },
  "cells": [
    {
      "cell_type": "markdown",
      "metadata": {
        "id": "view-in-github",
        "colab_type": "text"
      },
      "source": [
        "<a href=\"https://colab.research.google.com/github/VembuElumalai/BigData/blob/main/Assignment_02.ipynb\" target=\"_parent\"><img src=\"https://colab.research.google.com/assets/colab-badge.svg\" alt=\"Open In Colab\"/></a>"
      ]
    },
    {
      "cell_type": "markdown",
      "source": [
        "Problem statement 1"
      ],
      "metadata": {
        "id": "6PHDo3S5DEO9"
      }
    },
    {
      "cell_type": "code",
      "source": [
        "num_list = [1,1,1,1,2,2,3,3,4,5] \n",
        "unique_list = []\n",
        "\n",
        "for num in num_list:\n",
        "  if num not in unique_list:\n",
        "    unique_list.append(num)\n",
        "print(unique_list)"
      ],
      "metadata": {
        "colab": {
          "base_uri": "https://localhost:8080/"
        },
        "id": "f2TrxcMzDEr0",
        "outputId": "30fb6f32-f927-4ced-83cf-8361ffec0f7c"
      },
      "execution_count": null,
      "outputs": [
        {
          "output_type": "stream",
          "name": "stdout",
          "text": [
            "[1, 2, 3, 4, 5]\n"
          ]
        }
      ]
    },
    {
      "cell_type": "markdown",
      "source": [
        "Problem Statement 2"
      ],
      "metadata": {
        "id": "cLWbLPv-DU8c"
      }
    },
    {
      "cell_type": "code",
      "source": [
        "L = [1, 2, 3, 4, [4, 3]]\n",
        "\n",
        "num = int(input(\"Enter the number to check in the inner list: \"))\n",
        "exists = any(num in sublist for sublist in L if isinstance(sublist, list))\n",
        "print(f\"The number {num} {'exists' if exists else 'does not exist'} in the inner list.\")"
      ],
      "metadata": {
        "colab": {
          "base_uri": "https://localhost:8080/"
        },
        "id": "K6346Q5UDVXD",
        "outputId": "83ff7c44-9d17-4984-9aab-05971988601b"
      },
      "execution_count": 3,
      "outputs": [
        {
          "output_type": "stream",
          "name": "stdout",
          "text": [
            "Enter the number to check in the inner list: 4\n",
            "The number 4 exists in the inner list.\n"
          ]
        }
      ]
    }
  ]
}