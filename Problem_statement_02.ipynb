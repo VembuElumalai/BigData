{
  "nbformat": 4,
  "nbformat_minor": 0,
  "metadata": {
    "colab": {
      "provenance": [],
      "authorship_tag": "ABX9TyMA2lGnMViNuPceIn10pDYJ",
      "include_colab_link": true
    },
    "kernelspec": {
      "name": "python3",
      "display_name": "Python 3"
    },
    "language_info": {
      "name": "python"
    }
  },
  "cells": [
    {
      "cell_type": "markdown",
      "metadata": {
        "id": "view-in-github",
        "colab_type": "text"
      },
      "source": [
        "<a href=\"https://colab.research.google.com/github/VembuElumalai/BigData/blob/main/Problem_statement_02.ipynb\" target=\"_parent\"><img src=\"https://colab.research.google.com/assets/colab-badge.svg\" alt=\"Open In Colab\"/></a>"
      ]
    },
    {
      "cell_type": "code",
      "execution_count": 1,
      "metadata": {
        "colab": {
          "base_uri": "https://localhost:8080/"
        },
        "id": "gx5Q-iJxXGfp",
        "outputId": "3381b210-a8cd-46bd-e932-1ceb1ea8070c"
      },
      "outputs": [
        {
          "output_type": "stream",
          "name": "stdout",
          "text": [
            "Enter the transaction log:D:100 W:200 D:400\n",
            "Net amount: 300\n"
          ]
        }
      ],
      "source": [
        "transaction_log = input(\"Enter the transaction log:\")\n",
        "transactions = transaction_log.split()\n",
        "\n",
        "net_amount =0\n",
        "\n",
        "for transaction in transactions:\n",
        "    if transaction.startswith(\"D:\"):\n",
        "        amount = int(transaction[2:])\n",
        "        net_amount += amount\n",
        "    elif transaction.startswith(\"W:\"):\n",
        "        amount = int(transaction[2:])\n",
        "        net_amount -= amount\n",
        "print(\"Net amount:\", net_amount)"
      ]
    }
  ]
}