{
  "nbformat": 4,
  "nbformat_minor": 0,
  "metadata": {
    "colab": {
      "provenance": [],
      "authorship_tag": "ABX9TyPmGSkWJHq2/mzXexqbXtLT",
      "include_colab_link": true
    },
    "kernelspec": {
      "name": "python3",
      "display_name": "Python 3"
    },
    "language_info": {
      "name": "python"
    }
  },
  "cells": [
    {
      "cell_type": "markdown",
      "metadata": {
        "id": "view-in-github",
        "colab_type": "text"
      },
      "source": [
        "<a href=\"https://colab.research.google.com/github/VembuElumalai/BigData/blob/main/Assignment_1.ipynb\" target=\"_parent\"><img src=\"https://colab.research.google.com/assets/colab-badge.svg\" alt=\"Open In Colab\"/></a>"
      ]
    },
    {
      "cell_type": "markdown",
      "source": [
        "Problem statement 1"
      ],
      "metadata": {
        "id": "wGzd8BT7CP4C"
      }
    },
    {
      "cell_type": "code",
      "source": [
        "File_names=['view.jpg','bear.jpg','ball.jpg']\n",
        "new_file='phone.jpg'\n",
        "\n",
        "File_names.insert(0,new_file)\n",
        "delete_file=File_names.pop()\n",
        "#print(delete_file)\n",
        "print(File_names)"
      ],
      "metadata": {
        "colab": {
          "base_uri": "https://localhost:8080/"
        },
        "id": "nYs5IT5xCSRZ",
        "outputId": "e8344f0a-16f3-4315-855c-3c71e442d5a1"
      },
      "execution_count": null,
      "outputs": [
        {
          "output_type": "stream",
          "name": "stdout",
          "text": [
            "['phone.jpg', 'view.jpg', 'bear.jpg']\n"
          ]
        }
      ]
    },
    {
      "cell_type": "markdown",
      "source": [
        "Problem statement 2"
      ],
      "metadata": {
        "id": "keer4wVnCU15"
      }
    },
    {
      "cell_type": "code",
      "source": [
        "L1 = [1,2,3,4,5,6,7,8,9,10]  \n",
        "min= L1[0]\n",
        "max= L1[0]\n",
        "sum= 0\n",
        "for num in L1:\n",
        "    if num < min:\n",
        "        min = num\n",
        "    if num > max:\n",
        "        max = num\n",
        "    sum += num\n",
        "avg = sum/ len(L1)\n",
        "print(\"Minimum:\", min)\n",
        "print(\"Maximum:\", max)\n",
        "print(\"Average:\", avg)"
      ],
      "metadata": {
        "colab": {
          "base_uri": "https://localhost:8080/"
        },
        "id": "hlDze09XCX1U",
        "outputId": "3153e7dd-cffd-40b5-c8f0-7f376ff96db8"
      },
      "execution_count": null,
      "outputs": [
        {
          "output_type": "stream",
          "name": "stdout",
          "text": [
            "Minimum: 1\n",
            "Maximum: 10\n",
            "Average: 5.5\n"
          ]
        }
      ]
    }
  ]
}