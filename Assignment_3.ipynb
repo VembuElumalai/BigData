{
  "nbformat": 4,
  "nbformat_minor": 0,
  "metadata": {
    "colab": {
      "provenance": [],
      "include_colab_link": true
    },
    "kernelspec": {
      "name": "python3",
      "display_name": "Python 3"
    },
    "language_info": {
      "name": "python"
    }
  },
  "cells": [
    {
      "cell_type": "markdown",
      "metadata": {
        "id": "view-in-github",
        "colab_type": "text"
      },
      "source": [
        "<a href=\"https://colab.research.google.com/github/VembuElumalai/BigData/blob/main/Assignment_3.ipynb\" target=\"_parent\"><img src=\"https://colab.research.google.com/assets/colab-badge.svg\" alt=\"Open In Colab\"/></a>"
      ]
    },
    {
      "cell_type": "markdown",
      "source": [
        "Problem statement 1"
      ],
      "metadata": {
        "id": "Z6RDNqVADfZX"
      }
    },
    {
      "cell_type": "code",
      "source": [
        "List = [[1,2,-1],[0,-5,3,5,-2],[1,2,1,0,-2,-3]]\n",
        "List1=[]\n",
        "\n",
        "for sublist in List:\n",
        "  List1.extend([num for num in sublist if num > 0])\n",
        "print(List1) "
      ],
      "metadata": {
        "colab": {
          "base_uri": "https://localhost:8080/"
        },
        "id": "LsgTtMtxDfoG",
        "outputId": "470487b0-a4f7-4224-b141-5d9a85fb0f0a"
      },
      "execution_count": null,
      "outputs": [
        {
          "output_type": "stream",
          "name": "stdout",
          "text": [
            "[1, 2, 3, 5, 1, 2, 1]\n"
          ]
        }
      ]
    },
    {
      "cell_type": "markdown",
      "source": [
        "Problem statement 2"
      ],
      "metadata": {
        "id": "hn7JGDl1EBCi"
      }
    },
    {
      "cell_type": "code",
      "source": [
        "L = [[1, 2, 3], [4, 5, 6, 3], [-1, -2, -10, 5, 8]]\n",
        "sum_of_averages = 0\n",
        "for inner_list in L:\n",
        "  inner_average = sum(inner_list) / len(inner_list)\n",
        "  sum_of_averages += inner_average\n",
        "print(f\"{sum_of_averages} => {' + '.join([str(round(sum(inner_list) / len(inner_list), 2)) for inner_list in L])} => {round(sum_of_averages, 2)}\")"
      ],
      "metadata": {
        "colab": {
          "base_uri": "https://localhost:8080/"
        },
        "id": "0HKQrqu6EDUG",
        "outputId": "bb7dc236-0d46-4b7f-ecad-430ab8a1afac"
      },
      "execution_count": null,
      "outputs": [
        {
          "output_type": "stream",
          "name": "stdout",
          "text": [
            "6.5 => 2.0 + 4.5 + 0.0 => 6.5\n"
          ]
        }
      ]
    }
  ]
}