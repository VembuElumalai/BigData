{
  "nbformat": 4,
  "nbformat_minor": 0,
  "metadata": {
    "colab": {
      "provenance": [],
      "authorship_tag": "ABX9TyPOFDwNbbaLT4dFU66jQ+12",
      "include_colab_link": true
    },
    "kernelspec": {
      "name": "python3",
      "display_name": "Python 3"
    },
    "language_info": {
      "name": "python"
    }
  },
  "cells": [
    {
      "cell_type": "markdown",
      "metadata": {
        "id": "view-in-github",
        "colab_type": "text"
      },
      "source": [
        "<a href=\"https://colab.research.google.com/github/VembuElumalai/BigData/blob/main/Assignment_3.ipynb\" target=\"_parent\"><img src=\"https://colab.research.google.com/assets/colab-badge.svg\" alt=\"Open In Colab\"/></a>"
      ]
    },
    {
      "cell_type": "code",
      "source": [
        "def reverse(s):\n",
        "    str = \"\"\n",
        "    for i in s:\n",
        "        str = i + str\n",
        "    return str\n",
        " \n",
        "s = input(\"Enter the string value:\")\n",
        "print(\"The reversed string is:\",end=\"\")\n",
        "print(reverse(s))\n"
      ],
      "metadata": {
        "colab": {
          "base_uri": "https://localhost:8080/"
        },
        "id": "vp9xa4p9EXBn",
        "outputId": "1bec64f6-6811-4488-8e04-fef5caf14bb6"
      },
      "execution_count": null,
      "outputs": [
        {
          "output_type": "stream",
          "name": "stdout",
          "text": [
            "Enter the string value:1234abcd\n",
            "The reversed string is:dcba4321\n"
          ]
        }
      ]
    },
    {
      "cell_type": "code",
      "source": [
        "List_values=[8,2,3,0,7]\n",
        "list_num=sum(List_values)\n",
        "print (list_num)"
      ],
      "metadata": {
        "colab": {
          "base_uri": "https://localhost:8080/"
        },
        "id": "TBHV3j-erTfT",
        "outputId": "78cf88ed-3bdd-428b-b9ca-b754cf05586c"
      },
      "execution_count": 1,
      "outputs": [
        {
          "output_type": "stream",
          "name": "stdout",
          "text": [
            "20\n"
          ]
        }
      ]
    },
    {
      "cell_type": "code",
      "source": [
        "def count_uppercase_lowercase(input_string):\n",
        "    uppercase_count = 0\n",
        "    lowercase_count = 0\n",
        "    for char in input_string:\n",
        "        if char.isupper():\n",
        "            uppercase_count += 1\n",
        "        elif char.islower():\n",
        "            lowercase_count += 1\n",
        "    return uppercase_count, lowercase_count\n",
        "\n",
        "sample_string = input(\"Enter the given string:\")\n",
        "uppercase_count, lowercase_count = count_uppercase_lowercase(sample_string)\n",
        "print(\"Uppercase Count:\", uppercase_count)\n",
        "print(\"Lowercase Count:\", lowercase_count)"
      ],
      "metadata": {
        "colab": {
          "base_uri": "https://localhost:8080/"
        },
        "id": "Fs4vR_XusRcT",
        "outputId": "8b4ae0bb-e8da-4ca1-af6e-ca174a49909f"
      },
      "execution_count": 5,
      "outputs": [
        {
          "output_type": "stream",
          "name": "stdout",
          "text": [
            "Enter the given string:The quick Brow Fox\n",
            "Uppercase Count: 3\n",
            "Lowercase Count: 12\n"
          ]
        }
      ]
    }
  ]
}